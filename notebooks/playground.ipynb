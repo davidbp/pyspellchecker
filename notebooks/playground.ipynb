{
 "cells": [
  {
   "cell_type": "code",
   "execution_count": null,
   "id": "d4fee8b6",
   "metadata": {
    "ExecuteTime": {
     "end_time": "2022-02-25T07:16:02.527163Z",
     "start_time": "2022-02-25T07:16:02.501631Z"
    }
   },
   "outputs": [],
   "source": [
    "%load_ext autoreload\n",
    "%autoreload 2"
   ]
  },
  {
   "cell_type": "code",
   "execution_count": 31,
   "id": "35cfad4a",
   "metadata": {
    "ExecuteTime": {
     "end_time": "2022-02-25T07:20:17.291536Z",
     "start_time": "2022-02-25T07:20:17.221724Z"
    }
   },
   "outputs": [],
   "source": [
    "import os\n",
    "from pyspellchecker import SpellChecker\n",
    "from editdistance import eval as edit_distance"
   ]
  },
  {
   "cell_type": "code",
   "execution_count": 71,
   "id": "09d72673",
   "metadata": {
    "ExecuteTime": {
     "end_time": "2022-02-25T08:50:30.305702Z",
     "start_time": "2022-02-25T08:50:30.039721Z"
    }
   },
   "outputs": [],
   "source": [
    "def correct_text():\n",
    "    return [\n",
    "        'they can go quite fast',\n",
    "        'they can go',\n",
    "        'there japanese honda',\n",
    "        'new fast honda',\n",
    "        'the new car is japanese',\n",
    "        'document',\n",
    "        'executor',\n",
    "        'jina',\n",
    "        'flow',\n",
    "        'jinad',\n",
    "        'docarray',\n",
    "        'how to do serialization',\n",
    "        \"don't create cars\"\n",
    "    ]\n",
    "\n",
    "def incorrect_text():\n",
    "    return [\n",
    "        'they can go qite fast',\n",
    "        'they cn go',\n",
    "        'there japanes hnda',\n",
    "        'new fast honda',\n",
    "        'the new car iss japanse',\n",
    "        'docoment',\n",
    "        'exicutor',\n",
    "        'ginn',\n",
    "        'flou',\n",
    "        'JinaDDD',\n",
    "        'docarry',\n",
    "        'how to do serailization',\n",
    "        \"don't create kars\"\n",
    "    ]\n",
    "\n",
    "def input_training_data():\n",
    "    training_sentences = [\n",
    "#        'A jina flow helps you build search pipelines',\n",
    "        'they can go quite fast',\n",
    "        'there were the new Japanese Honda',\n",
    "        'docarray : the basic data types such as Document , DocumentArray',\n",
    "        'We will use Jina to implement a fuzzy search solution on source code',\n",
    "        'Modifying elements of a DocumentArrayMemmap is possible because accessed '\n",
    "        'and modified Document',\n",
    "        \"override an executor's meta configs when creating a flow.\",\n",
    "        'An Executor can be loaded from and stored to a YAML file.',\n",
    "        'can return DocumentArray , DocumentArrayMemmap',\n",
    "        'JinaD is a daemon for deploying and managing',\n",
    "        'JinaD enables deploying jina Executors on remote machines.',\n",
    "        'Documentarray can be used to do serialization'\n",
    "    ]\n",
    "    return training_sentences"
   ]
  },
  {
   "cell_type": "code",
   "execution_count": 72,
   "id": "bcf337ef",
   "metadata": {
    "ExecuteTime": {
     "end_time": "2022-02-25T08:50:30.378227Z",
     "start_time": "2022-02-25T08:50:30.308931Z"
    }
   },
   "outputs": [],
   "source": [
    "in_text = incorrect_text()\n",
    "co_text = correct_text()\n",
    "tr_data = input_training_data()"
   ]
  },
  {
   "cell_type": "code",
   "execution_count": 73,
   "id": "9732dd09",
   "metadata": {
    "ExecuteTime": {
     "end_time": "2022-02-25T08:50:30.521821Z",
     "start_time": "2022-02-25T08:50:30.447435Z"
    }
   },
   "outputs": [
    {
     "data": {
      "text/plain": [
       "<pyspellchecker.bktree.BKTree at 0x7fdcebdad7c0>"
      ]
     },
     "execution_count": 73,
     "metadata": {},
     "output_type": "execute_result"
    }
   ],
   "source": [
    "from pyspellchecker import BKTree\n",
    "\n",
    "vocab = ['cat', 'dog', 'cats', 'docs']\n",
    "\n",
    "bt = BKTree(edit_distance, vocab, sort_candidates=True)\n",
    "bt"
   ]
  },
  {
   "cell_type": "code",
   "execution_count": 74,
   "id": "6701367a",
   "metadata": {
    "ExecuteTime": {
     "end_time": "2022-02-25T08:50:31.366332Z",
     "start_time": "2022-02-25T08:50:30.652113Z"
    }
   },
   "outputs": [],
   "source": [
    "speller = SpellChecker(min_freq=1, max_dist=2)\n",
    "speller.fit(tr_data)"
   ]
  },
  {
   "cell_type": "markdown",
   "id": "7c546bdb",
   "metadata": {
    "ExecuteTime": {
     "end_time": "2022-02-25T06:51:44.936096Z",
     "start_time": "2022-02-25T06:51:44.418163Z"
    }
   },
   "source": [
    "Find sentences that are not correctly corrected"
   ]
  },
  {
   "cell_type": "code",
   "execution_count": 80,
   "id": "4b38ca5e",
   "metadata": {
    "ExecuteTime": {
     "end_time": "2022-02-25T09:44:05.208006Z",
     "start_time": "2022-02-25T09:44:04.420374Z"
    }
   },
   "outputs": [
    {
     "name": "stdout",
     "output_type": "stream",
     "text": [
      "flou --> for --should be--> flow\n",
      "don't create kars --> don't create as --should be--> don't create cars\n"
     ]
    }
   ],
   "source": [
    "for i_t, c_t in zip(in_text, co_text):\n",
    "    correction = speller.transform(i_t)\n",
    "    if correction !=c_t:  \n",
    "        print(i_t, '-->', correction,  '--should be-->', c_t)"
   ]
  },
  {
   "cell_type": "code",
   "execution_count": 76,
   "id": "0dfde4c1",
   "metadata": {
    "ExecuteTime": {
     "end_time": "2022-02-25T08:50:42.773771Z",
     "start_time": "2022-02-25T08:50:42.697357Z"
    }
   },
   "outputs": [
    {
     "data": {
      "text/plain": [
       "True"
      ]
     },
     "execution_count": 76,
     "metadata": {},
     "output_type": "execute_result"
    }
   ],
   "source": [
    "'serialization' in speller.vocabulary"
   ]
  },
  {
   "cell_type": "code",
   "execution_count": 77,
   "id": "5f4de0de",
   "metadata": {
    "ExecuteTime": {
     "end_time": "2022-02-25T08:50:43.146341Z",
     "start_time": "2022-02-25T08:50:43.076259Z"
    }
   },
   "outputs": [
    {
     "name": "stdout",
     "output_type": "stream",
     "text": [
      "False\n",
      "['serialization']\n"
     ]
    }
   ],
   "source": [
    "w = 'seralization'\n",
    "print(w in speller.vocabulary)\n",
    "print(speller.get_candidates(w,3))"
   ]
  },
  {
   "cell_type": "code",
   "execution_count": 78,
   "id": "8b80c0ce",
   "metadata": {
    "ExecuteTime": {
     "end_time": "2022-02-25T08:50:44.058251Z",
     "start_time": "2022-02-25T08:50:43.980928Z"
    }
   },
   "outputs": [
    {
     "data": {
      "text/plain": [
       "'serialization'"
      ]
     },
     "execution_count": 78,
     "metadata": {},
     "output_type": "execute_result"
    }
   ],
   "source": [
    "w = 'seralization'\n",
    "speller.transform(w)"
   ]
  },
  {
   "cell_type": "code",
   "execution_count": 79,
   "id": "135b2cf5",
   "metadata": {
    "ExecuteTime": {
     "end_time": "2022-02-25T08:50:46.107861Z",
     "start_time": "2022-02-25T08:50:46.035027Z"
    }
   },
   "outputs": [
    {
     "name": "stdout",
     "output_type": "stream",
     "text": [
      "True\n",
      "True\n"
     ]
    }
   ],
   "source": [
    "w_correct = 'serialization'\n",
    "print(w_correct in speller.vocabulary)\n",
    "print(w_correct in str(speller.bktree.tree))"
   ]
  },
  {
   "cell_type": "code",
   "execution_count": null,
   "id": "4f554c03",
   "metadata": {},
   "outputs": [],
   "source": []
  }
 ],
 "metadata": {
  "kernelspec": {
   "display_name": "Python 3 (ipykernel)",
   "language": "python",
   "name": "python3"
  },
  "language_info": {
   "codemirror_mode": {
    "name": "ipython",
    "version": 3
   },
   "file_extension": ".py",
   "mimetype": "text/x-python",
   "name": "python",
   "nbconvert_exporter": "python",
   "pygments_lexer": "ipython3",
   "version": "3.8.12"
  },
  "toc": {
   "base_numbering": 1,
   "nav_menu": {},
   "number_sections": true,
   "sideBar": true,
   "skip_h1_title": false,
   "title_cell": "Table of Contents",
   "title_sidebar": "Contents",
   "toc_cell": false,
   "toc_position": {},
   "toc_section_display": true,
   "toc_window_display": false
  }
 },
 "nbformat": 4,
 "nbformat_minor": 5
}
